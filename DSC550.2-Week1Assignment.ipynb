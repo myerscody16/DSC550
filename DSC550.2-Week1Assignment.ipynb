{
 "cells": [
  {
   "cell_type": "code",
   "execution_count": 1,
   "metadata": {},
   "outputs": [],
   "source": [
    "import numpy as np\n",
    "import pandas as pd"
   ]
  },
  {
   "cell_type": "code",
   "execution_count": 2,
   "metadata": {},
   "outputs": [
    {
     "data": {
      "text/html": [
       "<div>\n",
       "<style scoped>\n",
       "    .dataframe tbody tr th:only-of-type {\n",
       "        vertical-align: middle;\n",
       "    }\n",
       "\n",
       "    .dataframe tbody tr th {\n",
       "        vertical-align: top;\n",
       "    }\n",
       "\n",
       "    .dataframe thead th {\n",
       "        text-align: right;\n",
       "    }\n",
       "</style>\n",
       "<table border=\"1\" class=\"dataframe\">\n",
       "  <thead>\n",
       "    <tr style=\"text-align: right;\">\n",
       "      <th></th>\n",
       "      <th>0</th>\n",
       "      <th>1</th>\n",
       "      <th>2</th>\n",
       "      <th>3</th>\n",
       "      <th>4</th>\n",
       "      <th>5</th>\n",
       "      <th>6</th>\n",
       "      <th>7</th>\n",
       "      <th>8</th>\n",
       "      <th>9</th>\n",
       "      <th>...</th>\n",
       "      <th>40</th>\n",
       "      <th>41</th>\n",
       "      <th>42</th>\n",
       "      <th>43</th>\n",
       "      <th>44</th>\n",
       "      <th>45</th>\n",
       "      <th>46</th>\n",
       "      <th>47</th>\n",
       "      <th>48</th>\n",
       "      <th>49</th>\n",
       "    </tr>\n",
       "  </thead>\n",
       "  <tbody>\n",
       "    <tr>\n",
       "      <th>0</th>\n",
       "      <td>88</td>\n",
       "      <td>297</td>\n",
       "      <td>177</td>\n",
       "      <td>322</td>\n",
       "      <td>240</td>\n",
       "      <td>343</td>\n",
       "      <td>68</td>\n",
       "      <td>477</td>\n",
       "      <td>7</td>\n",
       "      <td>148</td>\n",
       "      <td>...</td>\n",
       "      <td>30</td>\n",
       "      <td>484</td>\n",
       "      <td>238</td>\n",
       "      <td>44</td>\n",
       "      <td>81</td>\n",
       "      <td>135</td>\n",
       "      <td>108</td>\n",
       "      <td>306</td>\n",
       "      <td>299</td>\n",
       "      <td>278</td>\n",
       "    </tr>\n",
       "    <tr>\n",
       "      <th>1</th>\n",
       "      <td>285</td>\n",
       "      <td>210</td>\n",
       "      <td>446</td>\n",
       "      <td>494</td>\n",
       "      <td>282</td>\n",
       "      <td>300</td>\n",
       "      <td>217</td>\n",
       "      <td>478</td>\n",
       "      <td>322</td>\n",
       "      <td>70</td>\n",
       "      <td>...</td>\n",
       "      <td>460</td>\n",
       "      <td>192</td>\n",
       "      <td>214</td>\n",
       "      <td>20</td>\n",
       "      <td>116</td>\n",
       "      <td>151</td>\n",
       "      <td>13</td>\n",
       "      <td>301</td>\n",
       "      <td>484</td>\n",
       "      <td>110</td>\n",
       "    </tr>\n",
       "    <tr>\n",
       "      <th>2</th>\n",
       "      <td>167</td>\n",
       "      <td>412</td>\n",
       "      <td>356</td>\n",
       "      <td>372</td>\n",
       "      <td>310</td>\n",
       "      <td>43</td>\n",
       "      <td>445</td>\n",
       "      <td>1</td>\n",
       "      <td>326</td>\n",
       "      <td>209</td>\n",
       "      <td>...</td>\n",
       "      <td>158</td>\n",
       "      <td>338</td>\n",
       "      <td>457</td>\n",
       "      <td>284</td>\n",
       "      <td>86</td>\n",
       "      <td>238</td>\n",
       "      <td>484</td>\n",
       "      <td>204</td>\n",
       "      <td>329</td>\n",
       "      <td>173</td>\n",
       "    </tr>\n",
       "    <tr>\n",
       "      <th>3</th>\n",
       "      <td>367</td>\n",
       "      <td>286</td>\n",
       "      <td>66</td>\n",
       "      <td>218</td>\n",
       "      <td>292</td>\n",
       "      <td>144</td>\n",
       "      <td>42</td>\n",
       "      <td>141</td>\n",
       "      <td>378</td>\n",
       "      <td>423</td>\n",
       "      <td>...</td>\n",
       "      <td>215</td>\n",
       "      <td>109</td>\n",
       "      <td>296</td>\n",
       "      <td>171</td>\n",
       "      <td>326</td>\n",
       "      <td>2</td>\n",
       "      <td>117</td>\n",
       "      <td>223</td>\n",
       "      <td>71</td>\n",
       "      <td>494</td>\n",
       "    </tr>\n",
       "    <tr>\n",
       "      <th>4</th>\n",
       "      <td>69</td>\n",
       "      <td>12</td>\n",
       "      <td>100</td>\n",
       "      <td>230</td>\n",
       "      <td>23</td>\n",
       "      <td>175</td>\n",
       "      <td>225</td>\n",
       "      <td>425</td>\n",
       "      <td>249</td>\n",
       "      <td>397</td>\n",
       "      <td>...</td>\n",
       "      <td>365</td>\n",
       "      <td>474</td>\n",
       "      <td>494</td>\n",
       "      <td>460</td>\n",
       "      <td>97</td>\n",
       "      <td>140</td>\n",
       "      <td>179</td>\n",
       "      <td>346</td>\n",
       "      <td>429</td>\n",
       "      <td>9</td>\n",
       "    </tr>\n",
       "  </tbody>\n",
       "</table>\n",
       "<p>5 rows × 50 columns</p>\n",
       "</div>"
      ],
      "text/plain": [
       "    0    1    2    3    4    5    6    7    8    9   ...   40   41   42   43  \\\n",
       "0   88  297  177  322  240  343   68  477    7  148  ...   30  484  238   44   \n",
       "1  285  210  446  494  282  300  217  478  322   70  ...  460  192  214   20   \n",
       "2  167  412  356  372  310   43  445    1  326  209  ...  158  338  457  284   \n",
       "3  367  286   66  218  292  144   42  141  378  423  ...  215  109  296  171   \n",
       "4   69   12  100  230   23  175  225  425  249  397  ...  365  474  494  460   \n",
       "\n",
       "    44   45   46   47   48   49  \n",
       "0   81  135  108  306  299  278  \n",
       "1  116  151   13  301  484  110  \n",
       "2   86  238  484  204  329  173  \n",
       "3  326    2  117  223   71  494  \n",
       "4   97  140  179  346  429    9  \n",
       "\n",
       "[5 rows x 50 columns]"
      ]
     },
     "execution_count": 2,
     "metadata": {},
     "output_type": "execute_result"
    }
   ],
   "source": [
    "#Create a numpy array of size (10,50) with random numbers between 1 and 500. \n",
    "x = np.random.randint(low = 1, high = 501, size=(10,50))#Randint has a non-inclusive range, so 501 needs to be the value\n",
    "\n",
    "#Create a dataframe from the numpy\n",
    "x = pd.DataFrame(data = x)\n",
    "\n",
    "#Display the dataframe\n",
    "x.head()"
   ]
  },
  {
   "cell_type": "code",
   "execution_count": 3,
   "metadata": {},
   "outputs": [
    {
     "data": {
      "text/plain": [
       "0     2428\n",
       "1     2609\n",
       "2     2489\n",
       "3     3014\n",
       "4     2238\n",
       "5     1953\n",
       "6     2336\n",
       "7     2625\n",
       "8     2810\n",
       "9     3011\n",
       "10    2298\n",
       "11    2393\n",
       "12    2508\n",
       "13    2786\n",
       "14    2673\n",
       "15    2681\n",
       "16    2027\n",
       "17    2326\n",
       "18    2647\n",
       "19    2288\n",
       "20    3105\n",
       "21    3023\n",
       "22    2757\n",
       "23    1990\n",
       "24    2134\n",
       "25    2654\n",
       "26    1862\n",
       "27    2793\n",
       "28    1678\n",
       "29    3038\n",
       "30    2840\n",
       "31    2288\n",
       "32    1559\n",
       "33    2897\n",
       "34    2738\n",
       "35    2063\n",
       "36    2765\n",
       "37    2827\n",
       "38    2434\n",
       "39    2608\n",
       "40    1876\n",
       "41    2229\n",
       "42    3000\n",
       "43    2570\n",
       "44    1822\n",
       "45    1688\n",
       "46    2419\n",
       "47    2798\n",
       "48    2820\n",
       "49    2689\n",
       "dtype: int64"
      ]
     },
     "execution_count": 3,
     "metadata": {},
     "output_type": "execute_result"
    }
   ],
   "source": [
    "#Sum across all columns of a numpy array\n",
    "colSums = x.sum(axis=0)\n",
    "colSums"
   ]
  },
  {
   "cell_type": "code",
   "execution_count": 4,
   "metadata": {},
   "outputs": [
    {
     "data": {
      "text/plain": [
       "0    12218\n",
       "1    11949\n",
       "2    14001\n",
       "3    11214\n",
       "4    11731\n",
       "5    13907\n",
       "6    12374\n",
       "7    10826\n",
       "8    12558\n",
       "9    13326\n",
       "dtype: int64"
      ]
     },
     "execution_count": 4,
     "metadata": {},
     "output_type": "execute_result"
    }
   ],
   "source": [
    "#Sum across all rows\n",
    "rowSums = x.sum(axis=1)\n",
    "rowSums"
   ]
  },
  {
   "cell_type": "code",
   "execution_count": 5,
   "metadata": {},
   "outputs": [
    {
     "data": {
      "text/plain": [
       "124104"
      ]
     },
     "execution_count": 5,
     "metadata": {},
     "output_type": "execute_result"
    }
   ],
   "source": [
    "#Sum of all entries\n",
    "allSum = sum(rowSums)\n",
    "allSum"
   ]
  },
  {
   "cell_type": "code",
   "execution_count": 6,
   "metadata": {},
   "outputs": [
    {
     "data": {
      "text/plain": [
       "500"
      ]
     },
     "execution_count": 6,
     "metadata": {},
     "output_type": "execute_result"
    }
   ],
   "source": [
    "#Find the max value of all entries\n",
    "maxVal = max(x.max())\n",
    "maxVal"
   ]
  },
  {
   "cell_type": "code",
   "execution_count": 7,
   "metadata": {},
   "outputs": [
    {
     "data": {
      "text/plain": [
       "1"
      ]
     },
     "execution_count": 7,
     "metadata": {},
     "output_type": "execute_result"
    }
   ],
   "source": [
    "#Find the minimum value of all entries\n",
    "minVal = min(x.min())\n",
    "minVal"
   ]
  },
  {
   "cell_type": "code",
   "execution_count": 8,
   "metadata": {},
   "outputs": [
    {
     "data": {
      "text/plain": [
       "248.20799999999997"
      ]
     },
     "execution_count": 8,
     "metadata": {},
     "output_type": "execute_result"
    }
   ],
   "source": [
    "#Find the average value of all entries\n",
    "aveVal = x.mean().mean()\n",
    "aveVal"
   ]
  },
  {
   "cell_type": "code",
   "execution_count": 9,
   "metadata": {},
   "outputs": [
    {
     "data": {
      "text/plain": [
       "23.054840328439592"
      ]
     },
     "execution_count": 9,
     "metadata": {},
     "output_type": "execute_result"
    }
   ],
   "source": [
    "#Find the standard deviation of all entries\n",
    "stdDev = x.std().std()\n",
    "stdDev"
   ]
  },
  {
   "cell_type": "code",
   "execution_count": null,
   "metadata": {},
   "outputs": [],
   "source": []
  }
 ],
 "metadata": {
  "kernelspec": {
   "display_name": "Python 3",
   "language": "python",
   "name": "python3"
  },
  "language_info": {
   "codemirror_mode": {
    "name": "ipython",
    "version": 3
   },
   "file_extension": ".py",
   "mimetype": "text/x-python",
   "name": "python",
   "nbconvert_exporter": "python",
   "pygments_lexer": "ipython3",
   "version": "3.7.6"
  }
 },
 "nbformat": 4,
 "nbformat_minor": 4
}
